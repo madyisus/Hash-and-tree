{
 "cells": [
  {
   "cell_type": "code",
   "execution_count": 99,
   "metadata": {},
   "outputs": [],
   "source": [
    "## Paquetes a usar\n",
    "import pandas as pd"
   ]
  },
  {
   "cell_type": "code",
   "execution_count": 108,
   "metadata": {},
   "outputs": [
    {
     "data": {
      "text/html": [
       "<div>\n",
       "<style scoped>\n",
       "    .dataframe tbody tr th:only-of-type {\n",
       "        vertical-align: middle;\n",
       "    }\n",
       "\n",
       "    .dataframe tbody tr th {\n",
       "        vertical-align: top;\n",
       "    }\n",
       "\n",
       "    .dataframe thead th {\n",
       "        text-align: right;\n",
       "    }\n",
       "</style>\n",
       "<table border=\"1\" class=\"dataframe\">\n",
       "  <thead>\n",
       "    <tr style=\"text-align: right;\">\n",
       "      <th></th>\n",
       "      <th>university</th>\n",
       "      <th>user_id</th>\n",
       "      <th>user_name</th>\n",
       "      <th>number_tweets</th>\n",
       "      <th>friends_count</th>\n",
       "      <th>followers_count</th>\n",
       "      <th>created_at</th>\n",
       "    </tr>\n",
       "  </thead>\n",
       "  <tbody>\n",
       "    <tr>\n",
       "      <th>18385</th>\n",
       "      <td>udeconcepcion</td>\n",
       "      <td>1168676070117314560</td>\n",
       "      <td>Tsiocastilla</td>\n",
       "      <td>1033</td>\n",
       "      <td>57</td>\n",
       "      <td>33</td>\n",
       "      <td>Tue Sep 03 00:04:37 +0000 2019</td>\n",
       "    </tr>\n",
       "  </tbody>\n",
       "</table>\n",
       "</div>"
      ],
      "text/plain": [
       "          university              user_id     user_name  number_tweets  \\\n",
       "18385  udeconcepcion  1168676070117314560  Tsiocastilla           1033   \n",
       "\n",
       "       friends_count  followers_count                      created_at  \n",
       "18385             57               33  Tue Sep 03 00:04:37 +0000 2019  "
      ]
     },
     "execution_count": 108,
     "metadata": {},
     "output_type": "execute_result"
    }
   ],
   "source": [
    "## Lectura del archivo como DataFrame\n",
    "df = pd.read_csv(\"universities_followers_2022.csv\",sep=\";\")\n",
    "df[df.user_name == \"Tsiocastilla\"]"
   ]
  },
  {
   "cell_type": "code",
   "execution_count": 106,
   "metadata": {},
   "outputs": [
    {
     "name": "stdout",
     "output_type": "stream",
     "text": [
      "university\n",
      "user_id\n",
      "user_name\n",
      "number_tweets\n",
      "friends_count\n",
      "followers_count\n",
      "created_at\n"
     ]
    }
   ],
   "source": [
    "for name in df.columns: print(name)"
   ]
  },
  {
   "cell_type": "code",
   "execution_count": 102,
   "metadata": {},
   "outputs": [
    {
     "name": "stdout",
     "output_type": "stream",
     "text": [
      "ID totales:  29245\n",
      "ID totales sin duplicados:  26101\n"
     ]
    }
   ],
   "source": [
    "## Borrado de user_id duplicadas\n",
    "print(\"ID totales: \", df.user_id.count())\n",
    "df.drop_duplicates(subset=\"user_id\",inplace=True)\n",
    "print(\"ID totales sin duplicados: \",df.user_id.count())\n"
   ]
  },
  {
   "cell_type": "code",
   "execution_count": 103,
   "metadata": {},
   "outputs": [],
   "source": [
    "## Guardado de ID (numerico y string) sin duplicadods como csv\n",
    "df.to_csv(\"clean_int_id.csv\",sep=\" \",columns=[\"user_id\",\"followers_count\"],header=False, index=False)\n",
    "df.to_csv(\"clean_str_id.csv\",sep=\" \",columns=[\"user_name\",\"followers_count\"],header=False, index=False)"
   ]
  }
 ],
 "metadata": {
  "kernelspec": {
   "display_name": "Python 3",
   "language": "python",
   "name": "python3"
  },
  "language_info": {
   "codemirror_mode": {
    "name": "ipython",
    "version": 3
   },
   "file_extension": ".py",
   "mimetype": "text/x-python",
   "name": "python",
   "nbconvert_exporter": "python",
   "pygments_lexer": "ipython3",
   "version": "3.10.6"
  },
  "orig_nbformat": 4
 },
 "nbformat": 4,
 "nbformat_minor": 2
}
